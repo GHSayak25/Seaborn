{
 "cells": [
  {
   "cell_type": "code",
   "execution_count": 1,
   "metadata": {},
   "outputs": [],
   "source": [
    "import seaborn as sns"
   ]
  },
  {
   "cell_type": "code",
   "execution_count": 2,
   "metadata": {},
   "outputs": [],
   "source": [
    "tips=sns.load_dataset('tips')"
   ]
  },
  {
   "cell_type": "code",
   "execution_count": 3,
   "metadata": {},
   "outputs": [
    {
     "data": {
      "text/html": [
       "<div>\n",
       "<style scoped>\n",
       "    .dataframe tbody tr th:only-of-type {\n",
       "        vertical-align: middle;\n",
       "    }\n",
       "\n",
       "    .dataframe tbody tr th {\n",
       "        vertical-align: top;\n",
       "    }\n",
       "\n",
       "    .dataframe thead th {\n",
       "        text-align: right;\n",
       "    }\n",
       "</style>\n",
       "<table border=\"1\" class=\"dataframe\">\n",
       "  <thead>\n",
       "    <tr style=\"text-align: right;\">\n",
       "      <th></th>\n",
       "      <th>total_bill</th>\n",
       "      <th>tip</th>\n",
       "      <th>sex</th>\n",
       "      <th>smoker</th>\n",
       "      <th>day</th>\n",
       "      <th>time</th>\n",
       "      <th>size</th>\n",
       "    </tr>\n",
       "  </thead>\n",
       "  <tbody>\n",
       "    <tr>\n",
       "      <td>0</td>\n",
       "      <td>16.99</td>\n",
       "      <td>1.01</td>\n",
       "      <td>Female</td>\n",
       "      <td>No</td>\n",
       "      <td>Sun</td>\n",
       "      <td>Dinner</td>\n",
       "      <td>2</td>\n",
       "    </tr>\n",
       "    <tr>\n",
       "      <td>1</td>\n",
       "      <td>10.34</td>\n",
       "      <td>1.66</td>\n",
       "      <td>Male</td>\n",
       "      <td>No</td>\n",
       "      <td>Sun</td>\n",
       "      <td>Dinner</td>\n",
       "      <td>3</td>\n",
       "    </tr>\n",
       "    <tr>\n",
       "      <td>2</td>\n",
       "      <td>21.01</td>\n",
       "      <td>3.50</td>\n",
       "      <td>Male</td>\n",
       "      <td>No</td>\n",
       "      <td>Sun</td>\n",
       "      <td>Dinner</td>\n",
       "      <td>3</td>\n",
       "    </tr>\n",
       "    <tr>\n",
       "      <td>3</td>\n",
       "      <td>23.68</td>\n",
       "      <td>3.31</td>\n",
       "      <td>Male</td>\n",
       "      <td>No</td>\n",
       "      <td>Sun</td>\n",
       "      <td>Dinner</td>\n",
       "      <td>2</td>\n",
       "    </tr>\n",
       "    <tr>\n",
       "      <td>4</td>\n",
       "      <td>24.59</td>\n",
       "      <td>3.61</td>\n",
       "      <td>Female</td>\n",
       "      <td>No</td>\n",
       "      <td>Sun</td>\n",
       "      <td>Dinner</td>\n",
       "      <td>4</td>\n",
       "    </tr>\n",
       "    <tr>\n",
       "      <td>...</td>\n",
       "      <td>...</td>\n",
       "      <td>...</td>\n",
       "      <td>...</td>\n",
       "      <td>...</td>\n",
       "      <td>...</td>\n",
       "      <td>...</td>\n",
       "      <td>...</td>\n",
       "    </tr>\n",
       "    <tr>\n",
       "      <td>239</td>\n",
       "      <td>29.03</td>\n",
       "      <td>5.92</td>\n",
       "      <td>Male</td>\n",
       "      <td>No</td>\n",
       "      <td>Sat</td>\n",
       "      <td>Dinner</td>\n",
       "      <td>3</td>\n",
       "    </tr>\n",
       "    <tr>\n",
       "      <td>240</td>\n",
       "      <td>27.18</td>\n",
       "      <td>2.00</td>\n",
       "      <td>Female</td>\n",
       "      <td>Yes</td>\n",
       "      <td>Sat</td>\n",
       "      <td>Dinner</td>\n",
       "      <td>2</td>\n",
       "    </tr>\n",
       "    <tr>\n",
       "      <td>241</td>\n",
       "      <td>22.67</td>\n",
       "      <td>2.00</td>\n",
       "      <td>Male</td>\n",
       "      <td>Yes</td>\n",
       "      <td>Sat</td>\n",
       "      <td>Dinner</td>\n",
       "      <td>2</td>\n",
       "    </tr>\n",
       "    <tr>\n",
       "      <td>242</td>\n",
       "      <td>17.82</td>\n",
       "      <td>1.75</td>\n",
       "      <td>Male</td>\n",
       "      <td>No</td>\n",
       "      <td>Sat</td>\n",
       "      <td>Dinner</td>\n",
       "      <td>2</td>\n",
       "    </tr>\n",
       "    <tr>\n",
       "      <td>243</td>\n",
       "      <td>18.78</td>\n",
       "      <td>3.00</td>\n",
       "      <td>Female</td>\n",
       "      <td>No</td>\n",
       "      <td>Thur</td>\n",
       "      <td>Dinner</td>\n",
       "      <td>2</td>\n",
       "    </tr>\n",
       "  </tbody>\n",
       "</table>\n",
       "<p>244 rows × 7 columns</p>\n",
       "</div>"
      ],
      "text/plain": [
       "     total_bill   tip     sex smoker   day    time  size\n",
       "0         16.99  1.01  Female     No   Sun  Dinner     2\n",
       "1         10.34  1.66    Male     No   Sun  Dinner     3\n",
       "2         21.01  3.50    Male     No   Sun  Dinner     3\n",
       "3         23.68  3.31    Male     No   Sun  Dinner     2\n",
       "4         24.59  3.61  Female     No   Sun  Dinner     4\n",
       "..          ...   ...     ...    ...   ...     ...   ...\n",
       "239       29.03  5.92    Male     No   Sat  Dinner     3\n",
       "240       27.18  2.00  Female    Yes   Sat  Dinner     2\n",
       "241       22.67  2.00    Male    Yes   Sat  Dinner     2\n",
       "242       17.82  1.75    Male     No   Sat  Dinner     2\n",
       "243       18.78  3.00  Female     No  Thur  Dinner     2\n",
       "\n",
       "[244 rows x 7 columns]"
      ]
     },
     "execution_count": 3,
     "metadata": {},
     "output_type": "execute_result"
    }
   ],
   "source": [
    "tips"
   ]
  },
  {
   "cell_type": "code",
   "execution_count": 4,
   "metadata": {},
   "outputs": [],
   "source": [
    "#1.Distplot"
   ]
  },
  {
   "cell_type": "code",
   "execution_count": 5,
   "metadata": {},
   "outputs": [
    {
     "data": {
      "text/plain": [
       "<matplotlib.axes._subplots.AxesSubplot at 0x1aadf49b8c8>"
      ]
     },
     "execution_count": 5,
     "metadata": {},
     "output_type": "execute_result"
    },
    {
     "data": {
      "image/png": "[encoded data removed]",
      "text/plain": [
       "<Figure size 432x288 with 1 Axes>"
      ]
     },
     "metadata": {
      "needs_background": "light"
     },
     "output_type": "display_data"
    }
   ],
   "source": [
    "sns.distplot(tips['total_bill'])"
   ]
  },
  {
   "cell_type": "code",
   "execution_count": 6,
   "metadata": {},
   "outputs": [
    {
     "data": {
      "text/plain": [
       "<matplotlib.axes._subplots.AxesSubplot at 0x1aae07ced48>"
      ]
     },
     "execution_count": 6,
     "metadata": {},
     "output_type": "execute_result"
    },
    {
     "data": {
      "image/png": "[encoded data removed]",
      "text/plain": [
       "<Figure size 432x288 with 1 Axes>"
      ]
     },
     "metadata": {
      "needs_background": "light"
     },
     "output_type": "display_data"
    }
   ],
   "source": [
    "sns.distplot(tips['total_bill'],kde=False)"
   ]
  },
  {
   "cell_type": "code",
   "execution_count": 7,
   "metadata": {},
   "outputs": [],
   "source": [
    "# 2.Jointplot"
   ]
  },
  {
   "cell_type": "code",
   "execution_count": 8,
   "metadata": {},
   "outputs": [
    {
     "data": {
      "text/plain": [
       "<seaborn.axisgrid.JointGrid at 0x1aadf77bd88>"
      ]
     },
     "execution_count": 8,
     "metadata": {},
     "output_type": "execute_result"
    },
    {
     "data": {
      "image/png": "[encoded data removed]",
      "text/plain": [
       "<Figure size 432x432 with 3 Axes>"
      ]
     },
     "metadata": {
      "needs_background": "light"
     },
     "output_type": "display_data"
    }
   ],
   "source": [
    "sns.jointplot(x='total_bill',y='tip',data=tips)"
   ]
  },
  {
   "cell_type": "code",
   "execution_count": 9,
   "metadata": {},
   "outputs": [
    {
     "data": {
      "text/plain": [
       "<seaborn.axisgrid.JointGrid at 0x1aae09b5d48>"
      ]
     },
     "execution_count": 9,
     "metadata": {},
     "output_type": "execute_result"
    },
    {
     "data": {
      "image/png": "[encoded data removed]",
      "text/plain": [
       "<Figure size 432x432 with 3 Axes>"
      ]
     },
     "metadata": {
      "needs_background": "light"
     },
     "output_type": "display_data"
    }
   ],
   "source": [
    "sns.jointplot(x='total_bill',y='tip',data=tips,kind='hex')"
   ]
  },
  {
   "cell_type": "code",
   "execution_count": 10,
   "metadata": {},
   "outputs": [
    {
     "data": {
      "text/plain": [
       "<seaborn.axisgrid.JointGrid at 0x1aae0af4948>"
      ]
     },
     "execution_count": 10,
     "metadata": {},
     "output_type": "execute_result"
    },
    {
     "data": {
      "image/png": "[encoded data removed]",
      "text/plain": [
       "<Figure size 432x432 with 3 Axes>"
      ]
     },
     "metadata": {
      "needs_background": "light"
     },
     "output_type": "display_data"
    }
   ],
   "source": [
    "sns.jointplot(x='total_bill',y='tip',data=tips,kind='kde')"
   ]
  },
  {
   "cell_type": "code",
   "execution_count": 11,
   "metadata": {},
   "outputs": [
    {
     "data": {
      "text/plain": [
       "<seaborn.axisgrid.JointGrid at 0x1aae0c5eb88>"
      ]
     },
     "execution_count": 11,
     "metadata": {},
     "output_type": "execute_result"
    },
    {
     "data": {
      "image/png": "[encoded data removed]",
      "text/plain": [
       "<Figure size 432x432 with 3 Axes>"
      ]
     },
     "metadata": {
      "needs_background": "light"
     },
     "output_type": "display_data"
    }
   ],
   "source": [
    "sns.jointplot(x='total_bill',y='tip',data=tips,kind='reg')"
   ]
  },
  {
   "cell_type": "code",
   "execution_count": 12,
   "metadata": {},
   "outputs": [],
   "source": [
    "#3.pairplot"
   ]
  },
  {
   "cell_type": "code",
   "execution_count": 13,
   "metadata": {},
   "outputs": [
    {
     "data": {
      "text/plain": [
       "<seaborn.axisgrid.PairGrid at 0x1aae0db5488>"
      ]
     },
     "execution_count": 13,
     "metadata": {},
     "output_type": "execute_result"
    },
    {
     "data": {
      "image/png": "[encoded data removed]",
      "text/plain": [
       "<Figure size 540x540 with 12 Axes>"
      ]
     },
     "metadata": {
      "needs_background": "light"
     },
     "output_type": "display_data"
    }
   ],
   "source": [
    "sns.pairplot(tips)"
   ]
  },
  {
   "cell_type": "code",
   "execution_count": 14,
   "metadata": {},
   "outputs": [
    {
     "data": {
      "text/plain": [
       "<seaborn.axisgrid.PairGrid at 0x1aae1332e88>"
      ]
     },
     "execution_count": 14,
     "metadata": {},
     "output_type": "execute_result"
    },
    {
     "data": {
      "image/png": "[encoded data removed]",
      "text/plain": [
       "<Figure size 612.625x540 with 12 Axes>"
      ]
     },
     "metadata": {
      "needs_background": "light"
     },
     "output_type": "display_data"
    }
   ],
   "source": [
    "sns.pairplot(tips,hue='sex')"
   ]
  },
  {
   "cell_type": "code",
   "execution_count": 15,
   "metadata": {},
   "outputs": [
    {
     "data": {
      "text/plain": [
       "<matplotlib.axes._subplots.AxesSubplot at 0x1aae18a5d08>"
      ]
     },
     "execution_count": 15,
     "metadata": {},
     "output_type": "execute_result"
    },
    {
     "data": {
      "image/png": "[encoded data removed]",
      "text/plain": [
       "<Figure size 432x288 with 1 Axes>"
      ]
     },
     "metadata": {
      "needs_background": "light"
     },
     "output_type": "display_data"
    }
   ],
   "source": [
    "sns.rugplot(tips['total_bill'])"
   ]
  },
  {
   "cell_type": "code",
   "execution_count": 16,
   "metadata": {},
   "outputs": [],
   "source": [
    "# 28-12-2019"
   ]
  },
  {
   "cell_type": "code",
   "execution_count": 17,
   "metadata": {},
   "outputs": [
    {
     "data": {
      "text/plain": [
       "<matplotlib.axes._subplots.AxesSubplot at 0x1aae18f0e08>"
      ]
     },
     "execution_count": 17,
     "metadata": {},
     "output_type": "execute_result"
    },
    {
     "data": {
      "image/png": "[encoded data removed]",
      "text/plain": [
       "<Figure size 432x288 with 1 Axes>"
      ]
     },
     "metadata": {
      "needs_background": "light"
     },
     "output_type": "display_data"
    }
   ],
   "source": [
    "# Barplot\n",
    "\n",
    "sns.barplot(x='day',y='tip',data=tips,hue='sex')"
   ]
  },
  {
   "cell_type": "code",
   "execution_count": 18,
   "metadata": {},
   "outputs": [
    {
     "data": {
      "text/plain": [
       "<matplotlib.axes._subplots.AxesSubplot at 0x1aae1999e48>"
      ]
     },
     "execution_count": 18,
     "metadata": {},
     "output_type": "execute_result"
    },
    {
     "data": {
      "image/png": "[encoded data removed]",
      "text/plain": [
       "<Figure size 432x288 with 1 Axes>"
      ]
     },
     "metadata": {
      "needs_background": "light"
     },
     "output_type": "display_data"
    }
   ],
   "source": [
    "import numpy as np\n",
    "sns.barplot(x='day',y='tip',data=tips,hue='smoker',estimator=np.median)"
   ]
  },
  {
   "cell_type": "code",
   "execution_count": 19,
   "metadata": {},
   "outputs": [
    {
     "data": {
      "text/plain": [
       "<matplotlib.axes._subplots.AxesSubplot at 0x1aae1a89d08>"
      ]
     },
     "execution_count": 19,
     "metadata": {},
     "output_type": "execute_result"
    },
    {
     "data": {
      "image/png": "[encoded data removed]",
      "text/plain": [
       "<Figure size 432x288 with 1 Axes>"
      ]
     },
     "metadata": {
      "needs_background": "light"
     },
     "output_type": "display_data"
    }
   ],
   "source": [
    "# countplot\n",
    "\n",
    "sns.countplot(tips['smoker'])"
   ]
  },
  {
   "cell_type": "code",
   "execution_count": 20,
   "metadata": {},
   "outputs": [
    {
     "data": {
      "text/plain": [
       "<matplotlib.axes._subplots.AxesSubplot at 0x1aae1ab40c8>"
      ]
     },
     "execution_count": 20,
     "metadata": {},
     "output_type": "execute_result"
    },
    {
     "data": {
      "image/png": "[encoded data removed]",
      "text/plain": [
       "<Figure size 432x288 with 1 Axes>"
      ]
     },
     "metadata": {
      "needs_background": "light"
     },
     "output_type": "display_data"
    }
   ],
   "source": [
    "sns.countplot(tips['smoker'],data=tips,hue='sex')"
   ]
  },
  {
   "cell_type": "code",
   "execution_count": 21,
   "metadata": {},
   "outputs": [
    {
     "data": {
      "text/plain": [
       "<matplotlib.axes._subplots.AxesSubplot at 0x1aae2d421c8>"
      ]
     },
     "execution_count": 21,
     "metadata": {},
     "output_type": "execute_result"
    },
    {
     "data": {
      "image/png": "[encoded data removed]",
      "text/plain": [
       "<Figure size 432x288 with 1 Axes>"
      ]
     },
     "metadata": {
      "needs_background": "light"
     },
     "output_type": "display_data"
    }
   ],
   "source": [
    "# Boxplot\n",
    "\n",
    "sns.boxplot('total_bill',data=tips)"
   ]
  },
  {
   "cell_type": "code",
   "execution_count": 22,
   "metadata": {},
   "outputs": [
    {
     "data": {
      "text/plain": [
       "<matplotlib.axes._subplots.AxesSubplot at 0x1aae2db0488>"
      ]
     },
     "execution_count": 22,
     "metadata": {},
     "output_type": "execute_result"
    },
    {
     "data": {
      "image/png": "[encoded data removed]",
      "text/plain": [
       "<Figure size 432x288 with 1 Axes>"
      ]
     },
     "metadata": {
      "needs_background": "light"
     },
     "output_type": "display_data"
    }
   ],
   "source": [
    "sns.boxplot(x=tips['sex'],y=tips['tip'])"
   ]
  },
  {
   "cell_type": "code",
   "execution_count": 23,
   "metadata": {},
   "outputs": [
    {
     "data": {
      "text/plain": [
       "<matplotlib.axes._subplots.AxesSubplot at 0x1aae2e20108>"
      ]
     },
     "execution_count": 23,
     "metadata": {},
     "output_type": "execute_result"
    },
    {
     "data": {
      "image/png": "[encoded data removed]",
      "text/plain": [
       "<Figure size 432x288 with 1 Axes>"
      ]
     },
     "metadata": {
      "needs_background": "light"
     },
     "output_type": "display_data"
    }
   ],
   "source": [
    "# violinplot\n",
    "\n",
    "sns.violinplot(x=tips['sex'],y=tips['tip'])"
   ]
  },
  {
   "cell_type": "code",
   "execution_count": null,
   "metadata": {},
   "outputs": [],
   "source": []
  },
  {
   "cell_type": "code",
   "execution_count": 24,
   "metadata": {},
   "outputs": [],
   "source": [
    "# Heatmap\n",
    "\n",
    "flight=sns.load_dataset('flights')"
   ]
  },
  {
   "cell_type": "code",
   "execution_count": 25,
   "metadata": {},
   "outputs": [
    {
     "data": {
      "text/html": [
       "<div>\n",
       "<style scoped>\n",
       "    .dataframe tbody tr th:only-of-type {\n",
       "        vertical-align: middle;\n",
       "    }\n",
       "\n",
       "    .dataframe tbody tr th {\n",
       "        vertical-align: top;\n",
       "    }\n",
       "\n",
       "    .dataframe thead th {\n",
       "        text-align: right;\n",
       "    }\n",
       "</style>\n",
       "<table border=\"1\" class=\"dataframe\">\n",
       "  <thead>\n",
       "    <tr style=\"text-align: right;\">\n",
       "      <th></th>\n",
       "      <th>year</th>\n",
       "      <th>month</th>\n",
       "      <th>passengers</th>\n",
       "    </tr>\n",
       "  </thead>\n",
       "  <tbody>\n",
       "    <tr>\n",
       "      <td>0</td>\n",
       "      <td>1949</td>\n",
       "      <td>January</td>\n",
       "      <td>112</td>\n",
       "    </tr>\n",
       "    <tr>\n",
       "      <td>1</td>\n",
       "      <td>1949</td>\n",
       "      <td>February</td>\n",
       "      <td>118</td>\n",
       "    </tr>\n",
       "    <tr>\n",
       "      <td>2</td>\n",
       "      <td>1949</td>\n",
       "      <td>March</td>\n",
       "      <td>132</td>\n",
       "    </tr>\n",
       "    <tr>\n",
       "      <td>3</td>\n",
       "      <td>1949</td>\n",
       "      <td>April</td>\n",
       "      <td>129</td>\n",
       "    </tr>\n",
       "    <tr>\n",
       "      <td>4</td>\n",
       "      <td>1949</td>\n",
       "      <td>May</td>\n",
       "      <td>121</td>\n",
       "    </tr>\n",
       "    <tr>\n",
       "      <td>...</td>\n",
       "      <td>...</td>\n",
       "      <td>...</td>\n",
       "      <td>...</td>\n",
       "    </tr>\n",
       "    <tr>\n",
       "      <td>139</td>\n",
       "      <td>1960</td>\n",
       "      <td>August</td>\n",
       "      <td>606</td>\n",
       "    </tr>\n",
       "    <tr>\n",
       "      <td>140</td>\n",
       "      <td>1960</td>\n",
       "      <td>September</td>\n",
       "      <td>508</td>\n",
       "    </tr>\n",
       "    <tr>\n",
       "      <td>141</td>\n",
       "      <td>1960</td>\n",
       "      <td>October</td>\n",
       "      <td>461</td>\n",
       "    </tr>\n",
       "    <tr>\n",
       "      <td>142</td>\n",
       "      <td>1960</td>\n",
       "      <td>November</td>\n",
       "      <td>390</td>\n",
       "    </tr>\n",
       "    <tr>\n",
       "      <td>143</td>\n",
       "      <td>1960</td>\n",
       "      <td>December</td>\n",
       "      <td>432</td>\n",
       "    </tr>\n",
       "  </tbody>\n",
       "</table>\n",
       "<p>144 rows × 3 columns</p>\n",
       "</div>"
      ],
      "text/plain": [
       "     year      month  passengers\n",
       "0    1949    January         112\n",
       "1    1949   February         118\n",
       "2    1949      March         132\n",
       "3    1949      April         129\n",
       "4    1949        May         121\n",
       "..    ...        ...         ...\n",
       "139  1960     August         606\n",
       "140  1960  September         508\n",
       "141  1960    October         461\n",
       "142  1960   November         390\n",
       "143  1960   December         432\n",
       "\n",
       "[144 rows x 3 columns]"
      ]
     },
     "execution_count": 25,
     "metadata": {},
     "output_type": "execute_result"
    }
   ],
   "source": [
    "flight"
   ]
  },
  {
   "cell_type": "code",
   "execution_count": 26,
   "metadata": {},
   "outputs": [],
   "source": [
    "import pandas as pd"
   ]
  },
  {
   "cell_type": "code",
   "execution_count": 27,
   "metadata": {},
   "outputs": [
    {
     "data": {
      "text/html": [
       "<div>\n",
       "<style scoped>\n",
       "    .dataframe tbody tr th:only-of-type {\n",
       "        vertical-align: middle;\n",
       "    }\n",
       "\n",
       "    .dataframe tbody tr th {\n",
       "        vertical-align: top;\n",
       "    }\n",
       "\n",
       "    .dataframe thead th {\n",
       "        text-align: right;\n",
       "    }\n",
       "</style>\n",
       "<table border=\"1\" class=\"dataframe\">\n",
       "  <thead>\n",
       "    <tr style=\"text-align: right;\">\n",
       "      <th>month</th>\n",
       "      <th>January</th>\n",
       "      <th>February</th>\n",
       "      <th>March</th>\n",
       "      <th>April</th>\n",
       "      <th>May</th>\n",
       "      <th>June</th>\n",
       "      <th>July</th>\n",
       "      <th>August</th>\n",
       "      <th>September</th>\n",
       "      <th>October</th>\n",
       "      <th>November</th>\n",
       "      <th>December</th>\n",
       "    </tr>\n",
       "    <tr>\n",
       "      <th>year</th>\n",
       "      <th></th>\n",
       "      <th></th>\n",
       "      <th></th>\n",
       "      <th></th>\n",
       "      <th></th>\n",
       "      <th></th>\n",
       "      <th></th>\n",
       "      <th></th>\n",
       "      <th></th>\n",
       "      <th></th>\n",
       "      <th></th>\n",
       "      <th></th>\n",
       "    </tr>\n",
       "  </thead>\n",
       "  <tbody>\n",
       "    <tr>\n",
       "      <td>1949</td>\n",
       "      <td>112</td>\n",
       "      <td>118</td>\n",
       "      <td>132</td>\n",
       "      <td>129</td>\n",
       "      <td>121</td>\n",
       "      <td>135</td>\n",
       "      <td>148</td>\n",
       "      <td>148</td>\n",
       "      <td>136</td>\n",
       "      <td>119</td>\n",
       "      <td>104</td>\n",
       "      <td>118</td>\n",
       "    </tr>\n",
       "    <tr>\n",
       "      <td>1950</td>\n",
       "      <td>115</td>\n",
       "      <td>126</td>\n",
       "      <td>141</td>\n",
       "      <td>135</td>\n",
       "      <td>125</td>\n",
       "      <td>149</td>\n",
       "      <td>170</td>\n",
       "      <td>170</td>\n",
       "      <td>158</td>\n",
       "      <td>133</td>\n",
       "      <td>114</td>\n",
       "      <td>140</td>\n",
       "    </tr>\n",
       "    <tr>\n",
       "      <td>1951</td>\n",
       "      <td>145</td>\n",
       "      <td>150</td>\n",
       "      <td>178</td>\n",
       "      <td>163</td>\n",
       "      <td>172</td>\n",
       "      <td>178</td>\n",
       "      <td>199</td>\n",
       "      <td>199</td>\n",
       "      <td>184</td>\n",
       "      <td>162</td>\n",
       "      <td>146</td>\n",
       "      <td>166</td>\n",
       "    </tr>\n",
       "    <tr>\n",
       "      <td>1952</td>\n",
       "      <td>171</td>\n",
       "      <td>180</td>\n",
       "      <td>193</td>\n",
       "      <td>181</td>\n",
       "      <td>183</td>\n",
       "      <td>218</td>\n",
       "      <td>230</td>\n",
       "      <td>242</td>\n",
       "      <td>209</td>\n",
       "      <td>191</td>\n",
       "      <td>172</td>\n",
       "      <td>194</td>\n",
       "    </tr>\n",
       "    <tr>\n",
       "      <td>1953</td>\n",
       "      <td>196</td>\n",
       "      <td>196</td>\n",
       "      <td>236</td>\n",
       "      <td>235</td>\n",
       "      <td>229</td>\n",
       "      <td>243</td>\n",
       "      <td>264</td>\n",
       "      <td>272</td>\n",
       "      <td>237</td>\n",
       "      <td>211</td>\n",
       "      <td>180</td>\n",
       "      <td>201</td>\n",
       "    </tr>\n",
       "    <tr>\n",
       "      <td>1954</td>\n",
       "      <td>204</td>\n",
       "      <td>188</td>\n",
       "      <td>235</td>\n",
       "      <td>227</td>\n",
       "      <td>234</td>\n",
       "      <td>264</td>\n",
       "      <td>302</td>\n",
       "      <td>293</td>\n",
       "      <td>259</td>\n",
       "      <td>229</td>\n",
       "      <td>203</td>\n",
       "      <td>229</td>\n",
       "    </tr>\n",
       "    <tr>\n",
       "      <td>1955</td>\n",
       "      <td>242</td>\n",
       "      <td>233</td>\n",
       "      <td>267</td>\n",
       "      <td>269</td>\n",
       "      <td>270</td>\n",
       "      <td>315</td>\n",
       "      <td>364</td>\n",
       "      <td>347</td>\n",
       "      <td>312</td>\n",
       "      <td>274</td>\n",
       "      <td>237</td>\n",
       "      <td>278</td>\n",
       "    </tr>\n",
       "    <tr>\n",
       "      <td>1956</td>\n",
       "      <td>284</td>\n",
       "      <td>277</td>\n",
       "      <td>317</td>\n",
       "      <td>313</td>\n",
       "      <td>318</td>\n",
       "      <td>374</td>\n",
       "      <td>413</td>\n",
       "      <td>405</td>\n",
       "      <td>355</td>\n",
       "      <td>306</td>\n",
       "      <td>271</td>\n",
       "      <td>306</td>\n",
       "    </tr>\n",
       "    <tr>\n",
       "      <td>1957</td>\n",
       "      <td>315</td>\n",
       "      <td>301</td>\n",
       "      <td>356</td>\n",
       "      <td>348</td>\n",
       "      <td>355</td>\n",
       "      <td>422</td>\n",
       "      <td>465</td>\n",
       "      <td>467</td>\n",
       "      <td>404</td>\n",
       "      <td>347</td>\n",
       "      <td>305</td>\n",
       "      <td>336</td>\n",
       "    </tr>\n",
       "    <tr>\n",
       "      <td>1958</td>\n",
       "      <td>340</td>\n",
       "      <td>318</td>\n",
       "      <td>362</td>\n",
       "      <td>348</td>\n",
       "      <td>363</td>\n",
       "      <td>435</td>\n",
       "      <td>491</td>\n",
       "      <td>505</td>\n",
       "      <td>404</td>\n",
       "      <td>359</td>\n",
       "      <td>310</td>\n",
       "      <td>337</td>\n",
       "    </tr>\n",
       "    <tr>\n",
       "      <td>1959</td>\n",
       "      <td>360</td>\n",
       "      <td>342</td>\n",
       "      <td>406</td>\n",
       "      <td>396</td>\n",
       "      <td>420</td>\n",
       "      <td>472</td>\n",
       "      <td>548</td>\n",
       "      <td>559</td>\n",
       "      <td>463</td>\n",
       "      <td>407</td>\n",
       "      <td>362</td>\n",
       "      <td>405</td>\n",
       "    </tr>\n",
       "    <tr>\n",
       "      <td>1960</td>\n",
       "      <td>417</td>\n",
       "      <td>391</td>\n",
       "      <td>419</td>\n",
       "      <td>461</td>\n",
       "      <td>472</td>\n",
       "      <td>535</td>\n",
       "      <td>622</td>\n",
       "      <td>606</td>\n",
       "      <td>508</td>\n",
       "      <td>461</td>\n",
       "      <td>390</td>\n",
       "      <td>432</td>\n",
       "    </tr>\n",
       "  </tbody>\n",
       "</table>\n",
       "</div>"
      ],
      "text/plain": [
       "month  January  February  March  April  May  June  July  August  September  \\\n",
       "year                                                                         \n",
       "1949       112       118    132    129  121   135   148     148        136   \n",
       "1950       115       126    141    135  125   149   170     170        158   \n",
       "1951       145       150    178    163  172   178   199     199        184   \n",
       "1952       171       180    193    181  183   218   230     242        209   \n",
       "1953       196       196    236    235  229   243   264     272        237   \n",
       "1954       204       188    235    227  234   264   302     293        259   \n",
       "1955       242       233    267    269  270   315   364     347        312   \n",
       "1956       284       277    317    313  318   374   413     405        355   \n",
       "1957       315       301    356    348  355   422   465     467        404   \n",
       "1958       340       318    362    348  363   435   491     505        404   \n",
       "1959       360       342    406    396  420   472   548     559        463   \n",
       "1960       417       391    419    461  472   535   622     606        508   \n",
       "\n",
       "month  October  November  December  \n",
       "year                                \n",
       "1949       119       104       118  \n",
       "1950       133       114       140  \n",
       "1951       162       146       166  \n",
       "1952       191       172       194  \n",
       "1953       211       180       201  \n",
       "1954       229       203       229  \n",
       "1955       274       237       278  \n",
       "1956       306       271       306  \n",
       "1957       347       305       336  \n",
       "1958       359       310       337  \n",
       "1959       407       362       405  \n",
       "1960       461       390       432  "
      ]
     },
     "execution_count": 27,
     "metadata": {},
     "output_type": "execute_result"
    }
   ],
   "source": [
    "p=flight.pivot_table(index='year',columns='month',values='passengers')\n",
    "p"
   ]
  },
  {
   "cell_type": "code",
   "execution_count": 28,
   "metadata": {},
   "outputs": [
    {
     "data": {
      "application/javascript": [
       "/* Put everything inside the global mpl namespace */\n",
       "window.mpl = {};\n",
       "\n",
       "\n",
       "mpl.get_websocket_type = function() {\n",
       "    if (typeof(WebSocket) !== 'undefined') {\n",
       "        return WebSocket;\n",
       "    } else if (typeof(MozWebSocket) !== 'undefined') {\n",
       "        return MozWebSocket;\n",
       "    } else {\n",
       "        alert('Your browser does not have WebSocket support. ' +\n",
       "              'Please try Chrome, Safari or Firefox ≥ 6. ' +\n",
       "              'Firefox 4 and 5 are also supported but you ' +\n",
       "              'have to enable WebSockets in about:config.');\n",
       "    };\n",
       "}\n",
       "\n",
       "mpl.figure = function(figure_id, websocket, ondownload, parent_element) {\n",
       "    this.id = figure_id;\n",
       "\n",
       "    this.ws = websocket;\n",
       "\n",
       "    this.supports_binary = (this.ws.binaryType != undefined);\n",
       "\n",
       "    if (!this.supports_binary) {\n",
       "        var warnings = document.getElementById(\"mpl-warnings\");\n",
       "        if (warnings) {\n",
       "            warnings.style.display = 'block';\n",
       "            warnings.textContent = (\n",
       "                \"This browser does not support binary websocket messages. \" +\n",
       "                    \"Performance may be slow.\");\n",
       "        }\n",
       "    }\n",
       "\n",
       "    this.imageObj = new Image();\n",
       "\n",
       "    this.context = undefined;\n",
       "    this.message = undefined;\n",
       "    this.canvas = undefined;\n",
       "    this.rubberband_canvas = undefined;\n",
       "    this.rubberband_context = undefined;\n",
       "    this.format_dropdown = undefined;\n",
       "\n",
       "    this.image_mode = 'full';\n",
       "\n",
       "    this.root = $('<div/>');\n",
       "    this._root_extra_style(this.root)\n",
       "    this.root.attr('style', 'display: inline-block');\n",
       "\n",
       "    $(parent_element).append(this.root);\n",
       "\n",
       "    this._init_header(this);\n",
       "    this._init_canvas(this);\n",
       "    this._init_toolbar(this);\n",
       "\n",
       "    var fig = this;\n",
       "\n",
       "    this.waiting = false;\n",
       "\n",
       "    this.ws.onopen =  function () {\n",
       "            fig.send_message(\"supports_binary\", {value: fig.supports_binary});\n",
       "            fig.send_message(\"send_image_mode\", {});\n",
       "            if (mpl.ratio != 1) {\n",
       "                fig.send_message(\"set_dpi_ratio\", {'dpi_ratio': mpl.ratio});\n",
       "            }\n",
       "            fig.send_message(\"refresh\", {});\n",
       "        }\n",
       "\n",
       "    this.imageObj.onload = function() {\n",
       "            if (fig.image_mode == 'full') {\n",
       "                // Full images could contain transparency (where diff images\n",
       "                // almost always do), so we need to clear the canvas so that\n",
       "                // there is no ghosting.\n",
       "                fig.context.clearRect(0, 0, fig.canvas.width, fig.canvas.height);\n",
       "            }\n",
       "            fig.context.drawImage(fig.imageObj, 0, 0);\n",
       "        };\n",
       "\n",
       "    this.imageObj.onunload = function() {\n",
       "        fig.ws.close();\n",
       "    }\n",
       "\n",
       "    this.ws.onmessage = this._make_on_message_function(this);\n",
       "\n",
       "    this.ondownload = ondownload;\n",
       "}\n",
       "\n",
       "mpl.figure.prototype._init_header = function() {\n",
       "    var titlebar = $(\n",
       "        '<div class=\"ui-dialog-titlebar ui-widget-header ui-corner-all ' +\n",
       "        'ui-helper-clearfix\"/>');\n",
       "    var titletext = $(\n",
       "        '<div class=\"ui-dialog-title\" style=\"width: 100%; ' +\n",
       "        'text-align: center; padding: 3px;\"/>');\n",
       "    titlebar.append(titletext)\n",
       "    this.root.append(titlebar);\n",
       "    this.header = titletext[0];\n",
       "}\n",
       "\n",
       "\n",
       "\n",
       "mpl.figure.prototype._canvas_extra_style = function(canvas_div) {\n",
       "\n",
       "}\n",
       "\n",
       "\n",
       "mpl.figure.prototype._root_extra_style = function(canvas_div) {\n",
       "\n",
       "}\n",
       "\n",
       "mpl.figure.prototype._init_canvas = function() {\n",
       "    var fig = this;\n",
       "\n",
       "    var canvas_div = $('<div/>');\n",
       "\n",
       "    canvas_div.attr('style', 'position: relative; clear: both; outline: 0');\n",
       "\n",
       "    function canvas_keyboard_event(event) {\n",
       "        return fig.key_event(event, event['data']);\n",
       "    }\n",
       "\n",
       "    canvas_div.keydown('key_press', canvas_keyboard_event);\n",
       "    canvas_div.keyup('key_release', canvas_keyboard_event);\n",
       "    this.canvas_div = canvas_div\n",
       "    this._canvas_extra_style(canvas_div)\n",
       "    this.root.append(canvas_div);\n",
       "\n",
       "    var canvas = $('<canvas/>');\n",
       "    canvas.addClass('mpl-canvas');\n",
       "    canvas.attr('style', \"left: 0; top: 0; z-index: 0; outline: 0\")\n",
       "\n",
       "    this.canvas = canvas[0];\n",
       "    this.context = canvas[0].getContext(\"2d\");\n",
       "\n",
       "    var backingStore = this.context.backingStorePixelRatio ||\n",
       "\tthis.context.webkitBackingStorePixelRatio ||\n",
       "\tthis.context.mozBackingStorePixelRatio ||\n",
       "\tthis.context.msBackingStorePixelRatio ||\n",
       "\tthis.context.oBackingStorePixelRatio ||\n",
       "\tthis.context.backingStorePixelRatio || 1;\n",
       "\n",
       "    mpl.ratio = (window.devicePixelRatio || 1) / backingStore;\n",
       "\n",
       "    var rubberband = $('<canvas/>');\n",
       "    rubberband.attr('style', \"position: absolute; left: 0; top: 0; z-index: 1;\")\n",
       "\n",
       "    var pass_mouse_events = true;\n",
       "\n",
       "    canvas_div.resizable({\n",
       "        start: function(event, ui) {\n",
       "            pass_mouse_events = false;\n",
       "        },\n",
       "        resize: function(event, ui) {\n",
       "            fig.request_resize(ui.size.width, ui.size.height);\n",
       "        },\n",
       "        stop: function(event, ui) {\n",
       "            pass_mouse_events = true;\n",
       "            fig.request_resize(ui.size.width, ui.size.height);\n",
       "        },\n",
       "    });\n",
       "\n",
       "    function mouse_event_fn(event) {\n",
       "        if (pass_mouse_events)\n",
       "            return fig.mouse_event(event, event['data']);\n",
       "    }\n",
       "\n",
       "    rubberband.mousedown('button_press', mouse_event_fn);\n",
       "    rubberband.mouseup('button_release', mouse_event_fn);\n",
       "    // Throttle sequential mouse events to 1 every 20ms.\n",
       "    rubberband.mousemove('motion_notify', mouse_event_fn);\n",
       "\n",
       "    rubberband.mouseenter('figure_enter', mouse_event_fn);\n",
       "    rubberband.mouseleave('figure_leave', mouse_event_fn);\n",
       "\n",
       "    canvas_div.on(\"wheel\", function (event) {\n",
       "        event = event.originalEvent;\n",
       "        event['data'] = 'scroll'\n",
       "        if (event.deltaY < 0) {\n",
       "            event.step = 1;\n",
       "        } else {\n",
       "            event.step = -1;\n",
       "        }\n",
       "        mouse_event_fn(event);\n",
       "    });\n",
       "\n",
       "    canvas_div.append(canvas);\n",
       "    canvas_div.append(rubberband);\n",
       "\n",
       "    this.rubberband = rubberband;\n",
       "    this.rubberband_canvas = rubberband[0];\n",
       "    this.rubberband_context = rubberband[0].getContext(\"2d\");\n",
       "    this.rubberband_context.strokeStyle = \"#000000\";\n",
       "\n",
       "    this._resize_canvas = function(width, height) {\n",
       "        // Keep the size of the canvas, canvas container, and rubber band\n",
       "        // canvas in synch.\n",
       "        canvas_div.css('width', width)\n",
       "        canvas_div.css('height', height)\n",
       "\n",
       "        canvas.attr('width', width * mpl.ratio);\n",
       "        canvas.attr('height', height * mpl.ratio);\n",
       "        canvas.attr('style', 'width: ' + width + 'px; height: ' + height + 'px;');\n",
       "\n",
       "        rubberband.attr('width', width);\n",
       "        rubberband.attr('height', height);\n",
       "    }\n",
       "\n",
       "    // Set the figure to an initial 600x600px, this will subsequently be updated\n",
       "    // upon first draw.\n",
       "    this._resize_canvas(600, 600);\n",
       "\n",
       "    // Disable right mouse context menu.\n",
       "    $(this.rubberband_canvas).bind(\"contextmenu\",function(e){\n",
       "        return false;\n",
       "    });\n",
       "\n",
       "    function set_focus () {\n",
       "        canvas.focus();\n",
       "        canvas_div.focus();\n",
       "    }\n",
       "\n",
       "    window.setTimeout(set_focus, 100);\n",
       "}\n",
       "\n",
       "mpl.figure.prototype._init_toolbar = function() {\n",
       "    var fig = this;\n",
       "\n",
       "    var nav_element = $('<div/>');\n",
       "    nav_element.attr('style', 'width: 100%');\n",
       "    this.root.append(nav_element);\n",
       "\n",
       "    // Define a callback function for later on.\n",
       "    function toolbar_event(event) {\n",
       "        return fig.toolbar_button_onclick(event['data']);\n",
       "    }\n",
       "    function toolbar_mouse_event(event) {\n",
       "        return fig.toolbar_button_onmouseover(event['data']);\n",
       "    }\n",
       "\n",
       "    for(var toolbar_ind in mpl.toolbar_items) {\n",
       "        var name = mpl.toolbar_items[toolbar_ind][0];\n",
       "        var tooltip = mpl.toolbar_items[toolbar_ind][1];\n",
       "        var image = mpl.toolbar_items[toolbar_ind][2];\n",
       "        var method_name = mpl.toolbar_items[toolbar_ind][3];\n",
       "\n",
       "        if (!name) {\n",
       "            // put a spacer in here.\n",
       "            continue;\n",
       "        }\n",
       "        var button = $('<button/>');\n",
       "        button.addClass('ui-button ui-widget ui-state-default ui-corner-all ' +\n",
       "                        'ui-button-icon-only');\n",
       "        button.attr('role', 'button');\n",
       "        button.attr('aria-disabled', 'false');\n",
       "        button.click(method_name, toolbar_event);\n",
       "        button.mouseover(tooltip, toolbar_mouse_event);\n",
       "\n",
       "        var icon_img = $('<span/>');\n",
       "        icon_img.addClass('ui-button-icon-primary ui-icon');\n",
       "        icon_img.addClass(image);\n",
       "        icon_img.addClass('ui-corner-all');\n",
       "\n",
       "        var tooltip_span = $('<span/>');\n",
       "        tooltip_span.addClass('ui-button-text');\n",
       "        tooltip_span.html(tooltip);\n",
       "\n",
       "        button.append(icon_img);\n",
       "        button.append(tooltip_span);\n",
       "\n",
       "        nav_element.append(button);\n",
       "    }\n",
       "\n",
       "    var fmt_picker_span = $('<span/>');\n",
       "\n",
       "    var fmt_picker = $('<select/>');\n",
       "    fmt_picker.addClass('mpl-toolbar-option ui-widget ui-widget-content');\n",
       "    fmt_picker_span.append(fmt_picker);\n",
       "    nav_element.append(fmt_picker_span);\n",
       "    this.format_dropdown = fmt_picker[0];\n",
       "\n",
       "    for (var ind in mpl.extensions) {\n",
       "        var fmt = mpl.extensions[ind];\n",
       "        var option = $(\n",
       "            '<option/>', {selected: fmt === mpl.default_extension}).html(fmt);\n",
       "        fmt_picker.append(option);\n",
       "    }\n",
       "\n",
       "    // Add hover states to the ui-buttons\n",
       "    $( \".ui-button\" ).hover(\n",
       "        function() { $(this).addClass(\"ui-state-hover\");},\n",
       "        function() { $(this).removeClass(\"ui-state-hover\");}\n",
       "    );\n",
       "\n",
       "    var status_bar = $('<span class=\"mpl-message\"/>');\n",
       "    nav_element.append(status_bar);\n",
       "    this.message = status_bar[0];\n",
       "}\n",
       "\n",
       "mpl.figure.prototype.request_resize = function(x_pixels, y_pixels) {\n",
       "    // Request matplotlib to resize the figure. Matplotlib will then trigger a resize in the client,\n",
       "    // which will in turn request a refresh of the image.\n",
       "    this.send_message('resize', {'width': x_pixels, 'height': y_pixels});\n",
       "}\n",
       "\n",
       "mpl.figure.prototype.send_message = function(type, properties) {\n",
       "    properties['type'] = type;\n",
       "    properties['figure_id'] = this.id;\n",
       "    this.ws.send(JSON.stringify(properties));\n",
       "}\n",
       "\n",
       "mpl.figure.prototype.send_draw_message = function() {\n",
       "    if (!this.waiting) {\n",
       "        this.waiting = true;\n",
       "        this.ws.send(JSON.stringify({type: \"draw\", figure_id: this.id}));\n",
       "    }\n",
       "}\n",
       "\n",
       "\n",
       "mpl.figure.prototype.handle_save = function(fig, msg) {\n",
       "    var format_dropdown = fig.format_dropdown;\n",
       "    var format = format_dropdown.options[format_dropdown.selectedIndex].value;\n",
       "    fig.ondownload(fig, format);\n",
       "}\n",
       "\n",
       "\n",
       "mpl.figure.prototype.handle_resize = function(fig, msg) {\n",
       "    var size = msg['size'];\n",
       "    if (size[0] != fig.canvas.width || size[1] != fig.canvas.height) {\n",
       "        fig._resize_canvas(size[0], size[1]);\n",
       "        fig.send_message(\"refresh\", {});\n",
       "    };\n",
       "}\n",
       "\n",
       "mpl.figure.prototype.handle_rubberband = function(fig, msg) {\n",
       "    var x0 = msg['x0'] / mpl.ratio;\n",
       "    var y0 = (fig.canvas.height - msg['y0']) / mpl.ratio;\n",
       "    var x1 = msg['x1'] / mpl.ratio;\n",
       "    var y1 = (fig.canvas.height - msg['y1']) / mpl.ratio;\n",
       "    x0 = Math.floor(x0) + 0.5;\n",
       "    y0 = Math.floor(y0) + 0.5;\n",
       "    x1 = Math.floor(x1) + 0.5;\n",
       "    y1 = Math.floor(y1) + 0.5;\n",
       "    var min_x = Math.min(x0, x1);\n",
       "    var min_y = Math.min(y0, y1);\n",
       "    var width = Math.abs(x1 - x0);\n",
       "    var height = Math.abs(y1 - y0);\n",
       "\n",
       "    fig.rubberband_context.clearRect(\n",
       "        0, 0, fig.canvas.width / mpl.ratio, fig.canvas.height / mpl.ratio);\n",
       "\n",
       "    fig.rubberband_context.strokeRect(min_x, min_y, width, height);\n",
       "}\n",
       "\n",
       "mpl.figure.prototype.handle_figure_label = function(fig, msg) {\n",
       "    // Updates the figure title.\n",
       "    fig.header.textContent = msg['label'];\n",
       "}\n",
       "\n",
       "mpl.figure.prototype.handle_cursor = function(fig, msg) {\n",
       "    var cursor = msg['cursor'];\n",
       "    switch(cursor)\n",
       "    {\n",
       "    case 0:\n",
       "        cursor = 'pointer';\n",
       "        break;\n",
       "    case 1:\n",
       "        cursor = 'default';\n",
       "        break;\n",
       "    case 2:\n",
       "        cursor = 'crosshair';\n",
       "        break;\n",
       "    case 3:\n",
       "        cursor = 'move';\n",
       "        break;\n",
       "    }\n",
       "    fig.rubberband_canvas.style.cursor = cursor;\n",
       "}\n",
       "\n",
       "mpl.figure.prototype.handle_message = function(fig, msg) {\n",
       "    fig.message.textContent = msg['message'];\n",
       "}\n",
       "\n",
       "mpl.figure.prototype.handle_draw = function(fig, msg) {\n",
       "    // Request the server to send over a new figure.\n",
       "    fig.send_draw_message();\n",
       "}\n",
       "\n",
       "mpl.figure.prototype.handle_image_mode = function(fig, msg) {\n",
       "    fig.image_mode = msg['mode'];\n",
       "}\n",
       "\n",
       "mpl.figure.prototype.updated_canvas_event = function() {\n",
       "    // Called whenever the canvas gets updated.\n",
       "    this.send_message(\"ack\", {});\n",
       "}\n",
       "\n",
       "// A function to construct a web socket function for onmessage handling.\n",
       "// Called in the figure constructor.\n",
       "mpl.figure.prototype._make_on_message_function = function(fig) {\n",
       "    return function socket_on_message(evt) {\n",
       "        if (evt.data instanceof Blob) {\n",
       "            /* FIXME: We get \"Resource interpreted as Image but\n",
       "             * transferred with MIME type text/plain:\" errors on\n",
       "             * Chrome.  But how to set the MIME type?  It doesn't seem\n",
       "             * to be part of the websocket stream */\n",
       "            evt.data.type = \"image/png\";\n",
       "\n",
       "            /* Free the memory for the previous frames */\n",
       "            if (fig.imageObj.src) {\n",
       "                (window.URL || window.webkitURL).revokeObjectURL(\n",
       "                    fig.imageObj.src);\n",
       "            }\n",
       "\n",
       "            fig.imageObj.src = (window.URL || window.webkitURL).createObjectURL(\n",
       "                evt.data);\n",
       "            fig.updated_canvas_event();\n",
       "            fig.waiting = false;\n",
       "            return;\n",
       "        }\n",
       "        else if (typeof evt.data === 'string' && evt.data.slice(0, 21) == \"data:image/png;base64\") {\n",
       "            fig.imageObj.src = evt.data;\n",
       "            fig.updated_canvas_event();\n",
       "            fig.waiting = false;\n",
       "            return;\n",
       "        }\n",
       "\n",
       "        var msg = JSON.parse(evt.data);\n",
       "        var msg_type = msg['type'];\n",
       "\n",
       "        // Call the  \"handle_{type}\" callback, which takes\n",
       "        // the figure and JSON message as its only arguments.\n",
       "        try {\n",
       "            var callback = fig[\"handle_\" + msg_type];\n",
       "        } catch (e) {\n",
       "            console.log(\"No handler for the '\" + msg_type + \"' message type: \", msg);\n",
       "            return;\n",
       "        }\n",
       "\n",
       "        if (callback) {\n",
       "            try {\n",
       "                // console.log(\"Handling '\" + msg_type + \"' message: \", msg);\n",
       "                callback(fig, msg);\n",
       "            } catch (e) {\n",
       "                console.log(\"Exception inside the 'handler_\" + msg_type + \"' callback:\", e, e.stack, msg);\n",
       "            }\n",
       "        }\n",
       "    };\n",
       "}\n",
       "\n",
       "// from http://stackoverflow.com/questions/1114465/getting-mouse-location-in-canvas\n",
       "mpl.findpos = function(e) {\n",
       "    //this section is from http://www.quirksmode.org/js/events_properties.html\n",
       "    var targ;\n",
       "    if (!e)\n",
       "        e = window.event;\n",
       "    if (e.target)\n",
       "        targ = e.target;\n",
       "    else if (e.srcElement)\n",
       "        targ = e.srcElement;\n",
       "    if (targ.nodeType == 3) // defeat Safari bug\n",
       "        targ = targ.parentNode;\n",
       "\n",
       "    // jQuery normalizes the pageX and pageY\n",
       "    // pageX,Y are the mouse positions relative to the document\n",
       "    // offset() returns the position of the element relative to the document\n",
       "    var x = e.pageX - $(targ).offset().left;\n",
       "    var y = e.pageY - $(targ).offset().top;\n",
       "\n",
       "    return {\"x\": x, \"y\": y};\n",
       "};\n",
       "\n",
       "/*\n",
       " * return a copy of an object with only non-object keys\n",
       " * we need this to avoid circular references\n",
       " * http://stackoverflow.com/a/24161582/3208463\n",
       " */\n",
       "function simpleKeys (original) {\n",
       "  return Object.keys(original).reduce(function (obj, key) {\n",
       "    if (typeof original[key] !== 'object')\n",
       "        obj[key] = original[key]\n",
       "    return obj;\n",
       "  }, {});\n",
       "}\n",
       "\n",
       "mpl.figure.prototype.mouse_event = function(event, name) {\n",
       "    var canvas_pos = mpl.findpos(event)\n",
       "\n",
       "    if (name === 'button_press')\n",
       "    {\n",
       "        this.canvas.focus();\n",
       "        this.canvas_div.focus();\n",
       "    }\n",
       "\n",
       "    var x = canvas_pos.x * mpl.ratio;\n",
       "    var y = canvas_pos.y * mpl.ratio;\n",
       "\n",
       "    this.send_message(name, {x: x, y: y, button: event.button,\n",
       "                             step: event.step,\n",
       "                             guiEvent: simpleKeys(event)});\n",
       "\n",
       "    /* This prevents the web browser from automatically changing to\n",
       "     * the text insertion cursor when the button is pressed.  We want\n",
       "     * to control all of the cursor setting manually through the\n",
       "     * 'cursor' event from matplotlib */\n",
       "    event.preventDefault();\n",
       "    return false;\n",
       "}\n",
       "\n",
       "mpl.figure.prototype._key_event_extra = function(event, name) {\n",
       "    // Handle any extra behaviour associated with a key event\n",
       "}\n",
       "\n",
       "mpl.figure.prototype.key_event = function(event, name) {\n",
       "\n",
       "    // Prevent repeat events\n",
       "    if (name == 'key_press')\n",
       "    {\n",
       "        if (event.which === this._key)\n",
       "            return;\n",
       "        else\n",
       "            this._key = event.which;\n",
       "    }\n",
       "    if (name == 'key_release')\n",
       "        this._key = null;\n",
       "\n",
       "    var value = '';\n",
       "    if (event.ctrlKey && event.which != 17)\n",
       "        value += \"ctrl+\";\n",
       "    if (event.altKey && event.which != 18)\n",
       "        value += \"alt+\";\n",
       "    if (event.shiftKey && event.which != 16)\n",
       "        value += \"shift+\";\n",
       "\n",
       "    value += 'k';\n",
       "    value += event.which.toString();\n",
       "\n",
       "    this._key_event_extra(event, name);\n",
       "\n",
       "    this.send_message(name, {key: value,\n",
       "                             guiEvent: simpleKeys(event)});\n",
       "    return false;\n",
       "}\n",
       "\n",
       "mpl.figure.prototype.toolbar_button_onclick = function(name) {\n",
       "    if (name == 'download') {\n",
       "        this.handle_save(this, null);\n",
       "    } else {\n",
       "        this.send_message(\"toolbar_button\", {name: name});\n",
       "    }\n",
       "};\n",
       "\n",
       "mpl.figure.prototype.toolbar_button_onmouseover = function(tooltip) {\n",
       "    this.message.textContent = tooltip;\n",
       "};\n",
       "mpl.toolbar_items = [[\"Home\", \"Reset original view\", \"fa fa-home icon-home\", \"home\"], [\"Back\", \"Back to previous view\", \"fa fa-arrow-left icon-arrow-left\", \"back\"], [\"Forward\", \"Forward to next view\", \"fa fa-arrow-right icon-arrow-right\", \"forward\"], [\"\", \"\", \"\", \"\"], [\"Pan\", \"Pan axes with left mouse, zoom with right\", \"fa fa-arrows icon-move\", \"pan\"], [\"Zoom\", \"Zoom to rectangle\", \"fa fa-square-o icon-check-empty\", \"zoom\"], [\"\", \"\", \"\", \"\"], [\"Download\", \"Download plot\", \"fa fa-floppy-o icon-save\", \"download\"]];\n",
       "\n",
       "mpl.extensions = [\"eps\", \"jpeg\", \"pdf\", \"png\", \"ps\", \"raw\", \"svg\", \"tif\"];\n",
       "\n",
       "mpl.default_extension = \"png\";var comm_websocket_adapter = function(comm) {\n",
       "    // Create a \"websocket\"-like object which calls the given IPython comm\n",
       "    // object with the appropriate methods. Currently this is a non binary\n",
       "    // socket, so there is still some room for performance tuning.\n",
       "    var ws = {};\n",
       "\n",
       "    ws.close = function() {\n",
       "        comm.close()\n",
       "    };\n",
       "    ws.send = function(m) {\n",
       "        //console.log('sending', m);\n",
       "        comm.send(m);\n",
       "    };\n",
       "    // Register the callback with on_msg.\n",
       "    comm.on_msg(function(msg) {\n",
       "        //console.log('receiving', msg['content']['data'], msg);\n",
       "        // Pass the mpl event to the overridden (by mpl) onmessage function.\n",
       "        ws.onmessage(msg['content']['data'])\n",
       "    });\n",
       "    return ws;\n",
       "}\n",
       "\n",
       "mpl.mpl_figure_comm = function(comm, msg) {\n",
       "    // This is the function which gets called when the mpl process\n",
       "    // starts-up an IPython Comm through the \"matplotlib\" channel.\n",
       "\n",
       "    var id = msg.content.data.id;\n",
       "    // Get hold of the div created by the display call when the Comm\n",
       "    // socket was opened in Python.\n",
       "    var element = $(\"#\" + id);\n",
       "    var ws_proxy = comm_websocket_adapter(comm)\n",
       "\n",
       "    function ondownload(figure, format) {\n",
       "        window.open(figure.imageObj.src);\n",
       "    }\n",
       "\n",
       "    var fig = new mpl.figure(id, ws_proxy,\n",
       "                           ondownload,\n",
       "                           element.get(0));\n",
       "\n",
       "    // Call onopen now - mpl needs it, as it is assuming we've passed it a real\n",
       "    // web socket which is closed, not our websocket->open comm proxy.\n",
       "    ws_proxy.onopen();\n",
       "\n",
       "    fig.parent_element = element.get(0);\n",
       "    fig.cell_info = mpl.find_output_cell(\"<div id='\" + id + \"'></div>\");\n",
       "    if (!fig.cell_info) {\n",
       "        console.error(\"Failed to find cell for figure\", id, fig);\n",
       "        return;\n",
       "    }\n",
       "\n",
       "    var output_index = fig.cell_info[2]\n",
       "    var cell = fig.cell_info[0];\n",
       "\n",
       "};\n",
       "\n",
       "mpl.figure.prototype.handle_close = function(fig, msg) {\n",
       "    var width = fig.canvas.width/mpl.ratio\n",
       "    fig.root.unbind('remove')\n",
       "\n",
       "    // Update the output cell to use the data from the current canvas.\n",
       "    fig.push_to_output();\n",
       "    var dataURL = fig.canvas.toDataURL();\n",
       "    // Re-enable the keyboard manager in IPython - without this line, in FF,\n",
       "    // the notebook keyboard shortcuts fail.\n",
       "    IPython.keyboard_manager.enable()\n",
       "    $(fig.parent_element).html('<img src=\"' + dataURL + '\" width=\"' + width + '\">');\n",
       "    fig.close_ws(fig, msg);\n",
       "}\n",
       "\n",
       "mpl.figure.prototype.close_ws = function(fig, msg){\n",
       "    fig.send_message('closing', msg);\n",
       "    // fig.ws.close()\n",
       "}\n",
       "\n",
       "mpl.figure.prototype.push_to_output = function(remove_interactive) {\n",
       "    // Turn the data on the canvas into data in the output cell.\n",
       "    var width = this.canvas.width/mpl.ratio\n",
       "    var dataURL = this.canvas.toDataURL();\n",
       "    this.cell_info[1]['text/html'] = '<img src=\"' + dataURL + '\" width=\"' + width + '\">';\n",
       "}\n",
       "\n",
       "mpl.figure.prototype.updated_canvas_event = function() {\n",
       "    // Tell IPython that the notebook contents must change.\n",
       "    IPython.notebook.set_dirty(true);\n",
       "    this.send_message(\"ack\", {});\n",
       "    var fig = this;\n",
       "    // Wait a second, then push the new image to the DOM so\n",
       "    // that it is saved nicely (might be nice to debounce this).\n",
       "    setTimeout(function () { fig.push_to_output() }, 1000);\n",
       "}\n",
       "\n",
       "mpl.figure.prototype._init_toolbar = function() {\n",
       "    var fig = this;\n",
       "\n",
       "    var nav_element = $('<div/>');\n",
       "    nav_element.attr('style', 'width: 100%');\n",
       "    this.root.append(nav_element);\n",
       "\n",
       "    // Define a callback function for later on.\n",
       "    function toolbar_event(event) {\n",
       "        return fig.toolbar_button_onclick(event['data']);\n",
       "    }\n",
       "    function toolbar_mouse_event(event) {\n",
       "        return fig.toolbar_button_onmouseover(event['data']);\n",
       "    }\n",
       "\n",
       "    for(var toolbar_ind in mpl.toolbar_items){\n",
       "        var name = mpl.toolbar_items[toolbar_ind][0];\n",
       "        var tooltip = mpl.toolbar_items[toolbar_ind][1];\n",
       "        var image = mpl.toolbar_items[toolbar_ind][2];\n",
       "        var method_name = mpl.toolbar_items[toolbar_ind][3];\n",
       "\n",
       "        if (!name) { continue; };\n",
       "\n",
       "        var button = $('<button class=\"btn btn-default\" href=\"#\" title=\"' + name + '\"><i class=\"fa ' + image + ' fa-lg\"></i></button>');\n",
       "        button.click(method_name, toolbar_event);\n",
       "        button.mouseover(tooltip, toolbar_mouse_event);\n",
       "        nav_element.append(button);\n",
       "    }\n",
       "\n",
       "    // Add the status bar.\n",
       "    var status_bar = $('<span class=\"mpl-message\" style=\"text-align:right; float: right;\"/>');\n",
       "    nav_element.append(status_bar);\n",
       "    this.message = status_bar[0];\n",
       "\n",
       "    // Add the close button to the window.\n",
       "    var buttongrp = $('<div class=\"btn-group inline pull-right\"></div>');\n",
       "    var button = $('<button class=\"btn btn-mini btn-primary\" href=\"#\" title=\"Stop Interaction\"><i class=\"fa fa-power-off icon-remove icon-large\"></i></button>');\n",
       "    button.click(function (evt) { fig.handle_close(fig, {}); } );\n",
       "    button.mouseover('Stop Interaction', toolbar_mouse_event);\n",
       "    buttongrp.append(button);\n",
       "    var titlebar = this.root.find($('.ui-dialog-titlebar'));\n",
       "    titlebar.prepend(buttongrp);\n",
       "}\n",
       "\n",
       "mpl.figure.prototype._root_extra_style = function(el){\n",
       "    var fig = this\n",
       "    el.on(\"remove\", function(){\n",
       "\tfig.close_ws(fig, {});\n",
       "    });\n",
       "}\n",
       "\n",
       "mpl.figure.prototype._canvas_extra_style = function(el){\n",
       "    // this is important to make the div 'focusable\n",
       "    el.attr('tabindex', 0)\n",
       "    // reach out to IPython and tell the keyboard manager to turn it's self\n",
       "    // off when our div gets focus\n",
       "\n",
       "    // location in version 3\n",
       "    if (IPython.notebook.keyboard_manager) {\n",
       "        IPython.notebook.keyboard_manager.register_events(el);\n",
       "    }\n",
       "    else {\n",
       "        // location in version 2\n",
       "        IPython.keyboard_manager.register_events(el);\n",
       "    }\n",
       "\n",
       "}\n",
       "\n",
       "mpl.figure.prototype._key_event_extra = function(event, name) {\n",
       "    var manager = IPython.notebook.keyboard_manager;\n",
       "    if (!manager)\n",
       "        manager = IPython.keyboard_manager;\n",
       "\n",
       "    // Check for shift+enter\n",
       "    if (event.shiftKey && event.which == 13) {\n",
       "        this.canvas_div.blur();\n",
       "        event.shiftKey = false;\n",
       "        // Send a \"J\" for go to next cell\n",
       "        event.which = 74;\n",
       "        event.keyCode = 74;\n",
       "        manager.command_mode();\n",
       "        manager.handle_keydown(event);\n",
       "    }\n",
       "}\n",
       "\n",
       "mpl.figure.prototype.handle_save = function(fig, msg) {\n",
       "    fig.ondownload(fig, null);\n",
       "}\n",
       "\n",
       "\n",
       "mpl.find_output_cell = function(html_output) {\n",
       "    // Return the cell and output element which can be found *uniquely* in the notebook.\n",
       "    // Note - this is a bit hacky, but it is done because the \"notebook_saving.Notebook\"\n",
       "    // IPython event is triggered only after the cells have been serialised, which for\n",
       "    // our purposes (turning an active figure into a static one), is too late.\n",
       "    var cells = IPython.notebook.get_cells();\n",
       "    var ncells = cells.length;\n",
       "    for (var i=0; i<ncells; i++) {\n",
       "        var cell = cells[i];\n",
       "        if (cell.cell_type === 'code'){\n",
       "            for (var j=0; j<cell.output_area.outputs.length; j++) {\n",
       "                var data = cell.output_area.outputs[j];\n",
       "                if (data.data) {\n",
       "                    // IPython >= 3 moved mimebundle to data attribute of output\n",
       "                    data = data.data;\n",
       "                }\n",
       "                if (data['text/html'] == html_output) {\n",
       "                    return [cell, data, j];\n",
       "                }\n",
       "            }\n",
       "        }\n",
       "    }\n",
       "}\n",
       "\n",
       "// Register the function which deals with the matplotlib target/channel.\n",
       "// The kernel may be null if the page has been refreshed.\n",
       "if (IPython.notebook.kernel != null) {\n",
       "    IPython.notebook.kernel.comm_manager.register_target('matplotlib', mpl.mpl_figure_comm);\n",
       "}\n"
      ],
      "text/plain": [
       "<IPython.core.display.Javascript object>"
      ]
     },
     "metadata": {},
     "output_type": "display_data"
    },
    {
     "data": {
      "text/html": [
       "<img src=\"data:image/png;base64,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\" width=\"640\">"
      ],
      "text/plain": [
       "<IPython.core.display.HTML object>"
      ]
     },
     "metadata": {},
     "output_type": "display_data"
    },
    {
     "data": {
      "text/plain": [
       "<matplotlib.axes._subplots.AxesSubplot at 0x1aae1aae908>"
      ]
     },
     "execution_count": 28,
     "metadata": {},
     "output_type": "execute_result"
    }
   ],
   "source": [
    "%matplotlib notebook\n",
    "sns.heatmap(p,cmap='winter',linewidths=3,linecolor='black')"
   ]
  },
  {
   "cell_type": "code",
   "execution_count": null,
   "metadata": {},
   "outputs": [],
   "source": []
  }
 ],
 "metadata": {
  "kernelspec": {
   "display_name": "Python 3",
   "language": "python",
   "name": "python3"
  },
  "language_info": {
   "codemirror_mode": {
    "name": "ipython",
    "version": 3
   },
   "file_extension": ".py",
   "mimetype": "text/x-python",
   "name": "python",
   "nbconvert_exporter": "python",
   "pygments_lexer": "ipython3",
   "version": "3.7.4"
  }
 },
 "nbformat": 4,
 "nbformat_minor": 2
}
